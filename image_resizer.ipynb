{
 "cells": [
  {
   "cell_type": "code",
   "execution_count": 3,
   "id": "a4043e7f",
   "metadata": {},
   "outputs": [
    {
     "data": {
      "text/plain": [
       "'/mnt/data/public_resized.zip'"
      ]
     },
     "execution_count": 3,
     "metadata": {},
     "output_type": "execute_result"
    }
   ],
   "source": [
    "from PIL import Image\n",
    "import os\n",
    "from pathlib import Path\n",
    "import shutil\n",
    "\n",
    "# Define source and destination folders\n",
    "source_dir = Path(\"public\")\n",
    "output_dir = Path(\"public_resized\")\n",
    "\n",
    "# Create output directory\n",
    "output_dir.mkdir(parents=True, exist_ok=True)\n",
    "\n",
    "# Define max dimensions\n",
    "max_size = (512, 512)  # Resize images to fit within 512x512 pixels\n",
    "\n",
    "# Function to resize images\n",
    "def resize_image(input_path, output_path, max_size):\n",
    "    with Image.open(input_path) as img:\n",
    "        img.thumbnail(max_size)\n",
    "        img.save(output_path, optimize=True)\n",
    "\n",
    "# Walk through all files and resize images\n",
    "for root, _, files in os.walk(source_dir):\n",
    "    for file in files:\n",
    "        if file.lower().endswith(('.png', '.jpg', '.jpeg', '.jfif')):\n",
    "            input_path = Path(root) / file\n",
    "            relative_path = input_path.relative_to(source_dir)\n",
    "            output_path = output_dir / relative_path\n",
    "            output_path.parent.mkdir(parents=True, exist_ok=True)\n",
    "            resize_image(input_path, output_path, max_size)\n",
    "\n",
    "shutil.make_archive(\"/mnt/data/public_resized\", 'zip', output_dir)\n",
    "\n",
    "\"/mnt/data/public_resized.zip\"\n"
   ]
  }
 ],
 "metadata": {
  "kernelspec": {
   "display_name": "base",
   "language": "python",
   "name": "python3"
  },
  "language_info": {
   "codemirror_mode": {
    "name": "ipython",
    "version": 3
   },
   "file_extension": ".py",
   "mimetype": "text/x-python",
   "name": "python",
   "nbconvert_exporter": "python",
   "pygments_lexer": "ipython3",
   "version": "3.12.4"
  }
 },
 "nbformat": 4,
 "nbformat_minor": 5
}
