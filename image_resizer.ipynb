{
 "cells": [
  {
   "cell_type": "code",
   "execution_count": null,
   "id": "a4043e7f",
   "metadata": {},
   "outputs": [],
   "source": [
    "from PIL import Image\n",
    "import os\n",
    "from pathlib import Path\n",
    "import shutil\n",
    "\n",
    "# Define source and destination folders\n",
    "source_dir = Path(\"/mnt/data/public\")\n",
    "output_dir = Path(\"/mnt/data/public_resized\")\n",
    "\n",
    "# Create output directory\n",
    "output_dir.mkdir(parents=True, exist_ok=True)\n",
    "\n",
    "# Define max dimensions\n",
    "max_size = (512, 512)  # Resize images to fit within 512x512 pixels\n",
    "\n",
    "# Function to resize images\n",
    "def resize_image(input_path, output_path, max_size):\n",
    "    with Image.open(input_path) as img:\n",
    "        img.thumbnail(max_size)\n",
    "        img.save(output_path, optimize=True)\n",
    "\n",
    "# Walk through all files and resize images\n",
    "for root, _, files in os.walk(source_dir):\n",
    "    for file in files:\n",
    "        if file.lower().endswith(('.png', '.jpg', '.jpeg', '.jfif')):\n",
    "            input_path = Path(root) / file\n",
    "            relative_path = input_path.relative_to(source_dir)\n",
    "            output_path = output_dir / relative_path\n",
    "            output_path.parent.mkdir(parents=True, exist_ok=True)\n",
    "            resize_image(input_path, output_path, max_size)\n",
    "\n",
    "shutil.make_archive(\"/mnt/data/public_resized\", 'zip', output_dir)\n",
    "\n",
    "\"/mnt/data/public_resized.zip\"\n"
   ]
  }
 ],
 "metadata": {
  "language_info": {
   "name": "python"
  }
 },
 "nbformat": 4,
 "nbformat_minor": 5
}
